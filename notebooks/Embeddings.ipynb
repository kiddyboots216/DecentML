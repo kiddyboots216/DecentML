{
 "cells": [
  {
   "cell_type": "markdown",
   "metadata": {},
   "source": [
    "## Creating an 8-d Character Embedding"
   ]
  },
  {
   "cell_type": "markdown",
   "metadata": {},
   "source": [
    "Put the path of a GloVe embedding or similar in the following cell and then **run all cells**."
   ]
  },
  {
   "cell_type": "code",
   "execution_count": null,
   "metadata": {},
   "outputs": [],
   "source": [
    "\"\"\"Import from parent directory.\"\"\"\n",
    "import os\n",
    "import sys\n",
    "module_path = os.path.abspath(os.path.join('..'))\n",
    "if module_path not in sys.path: sys.path.append(module_path)"
   ]
  },
  {
   "cell_type": "code",
   "execution_count": null,
   "metadata": {},
   "outputs": [],
   "source": [
    "file_path = \"../../glove.6B/glove.6B.50d.txt\""
   ]
  },
  {
   "cell_type": "code",
   "execution_count": null,
   "metadata": {},
   "outputs": [],
   "source": [
    "import numpy as np\n",
    "import os\n",
    "\n",
    "vectors = {}\n",
    "with open(file_path, 'r') as f:\n",
    "    for line in f:\n",
    "        line_split = line.strip().split(\" \")\n",
    "        vec = np.array(line_split[1:], dtype=float)\n",
    "        word = line_split[0]\n",
    "\n",
    "        for char in word:\n",
    "            if ord(char) < 128:\n",
    "                if char in vectors:\n",
    "                    vectors[char] = (vectors[char][0] + vec,\n",
    "                                     vectors[char][1] + 1)\n",
    "                else:\n",
    "                    vectors[char] = (vec, 1)"
   ]
  },
  {
   "cell_type": "code",
   "execution_count": null,
   "metadata": {},
   "outputs": [],
   "source": [
    "base_name = os.path.splitext(os.path.basename(file_path))[0] + '-char.txt'\n",
    "with open(base_name, 'w') as f2:\n",
    "    for word in vectors:\n",
    "        avg_vector = np.round(\n",
    "            (vectors[word][0] / vectors[word][1]), 6).tolist()\n",
    "        f2.write(word + \" \" + \" \".join(str(x) for x in avg_vector) + \"\\n\")"
   ]
  },
  {
   "cell_type": "code",
   "execution_count": null,
   "metadata": {},
   "outputs": [],
   "source": [
    "# import numpy as np\n",
    "# import os\n",
    "# base_name = os.path.join(os.getcwd(), 'models', 'embed-50.txt')\n",
    "# Can be downloaded from here:\n",
    "# https://github.com/minimaxir/char-embeddings/blob/master/output/char-embeddings.txt\n",
    "\n",
    "from sklearn.decomposition import PCA\n",
    "\n",
    "target_dimension = 8\n",
    "\n",
    "# base_name should be defined from the previous cell\n",
    "matrix, letters = [], []\n",
    "with open(base_name, 'r') as f3:\n",
    "    for line in f3:\n",
    "        line_split = line[2:].split(\" \")\n",
    "        \n",
    "        letter = line[0]\n",
    "        letters.append(letter)\n",
    "        \n",
    "        vec = np.array(line_split, dtype=float)\n",
    "        matrix.append(vec)\n",
    "        \n",
    "matrix.append(np.array(\"-0.176543 -0.0607547 -0.159691 0.0870273 0.0403995 0.0213324 -0.134438 0.0131233 0.233211 0.0763511 -0.275441 0.0458893 -0.106578 -0.12377 -0.0448412 -0.0693199 -0.0708979 0.000363698 -0.192967 0.0353816 -0.241297 0.0529075 0.00781091 -0.0455715 -0.0746754 -0.0352847 -0.146932 0.0350808 -0.0588486 0.0629856 -0.0381179 0.0571695 0.0692242 0.111967 0.0602836 -0.205904 -0.140617 0.0649097 0.0896599 -0.267585 0.167491 -0.00889326 0.100823 0.0463486 0.253137 -9.36498e-05 0.0171682 -0.118872 0.161531 0.0713038 -0.0655475 0.0491769 -0.0258469 -0.175087 -0.0317595 -0.00616647 -0.0297475 -0.0767706 0.179969 -0.0762899 0.0981422 -0.0697932 -0.0371107 0.194316 0.128052 0.121752 0.155514 -0.110224 0.134749 0.146176 -0.031349 -0.0920243 0.112921 0.0253724 0.0982931 -0.1142 0.190937 -0.00298471 0.102337 0.0983477 0.100156 0.0999328 -0.169477 -0.257284 -0.282906 -0.115447 -0.144638 -0.0396769 0.042055 0.0590306 -0.0278806 -0.114516 -0.224144 -0.0606429 -0.00479375 -0.0865487 -0.0303819 0.117908 -0.00772063 0.190453 0.190746 0.216155 0.121008 0.123382 0.111172 0.0316783 0.13883 0.00584096 -0.118011 -0.00605616 0.264351 -0.0649584 0.0640562 0.0377098 0.115598 -0.0770371 -0.0608966 -0.056877 -0.164213 0.100969 0.115951 0.172744 -0.259987 0.0118905 0.115986 -0.150342 0.207787 -0.023525 -0.0435967 -0.191336 0.066022 -0.121246 0.176364 -0.0200994 0.0691643 0.0399331 0.179246 -0.192231 0.00388809 -0.035855 -0.115061 -0.139529 0.10366 0.0565507 0.0326943 -0.142955 -0.0780179 0.278346 0.0278197 -0.0126296 -0.0726072 -0.0614755 0.0426798 -0.138147 -0.112716 0.0568294 -0.168618 0.265012 0.033327 -0.114757 0.0507342 -0.100955 0.0578076 -0.086494 -0.0886674 0.0786155 0.227202 0.00955266 -0.0769165 0.0129948 0.152545 -0.174545 -0.0570267 0.0730677 -0.199741 0.149883 -0.0039327 0.147841 0.0703948 -0.0228497 0.0248481 -0.0827813 0.116289 -0.240787 0.11094 0.14764 0.0161272 0.117578 -0.191075 -0.0580784 -0.0175128 -0.0323518 -0.0330317 0.0410192 -0.0257612 0.0331436 -0.145723 0.0680157 0.00460107 0.183973 0.141303 -0.0453994 0.165678 -0.0046626 0.119377 0.255351 0.169385 -0.000926748 0.0888705 -0.122845 0.0831758 -0.0432517 0.0273171 -0.015605 0.0253562 0.0602814 -0.242462 0.00482047 -0.191988 0.0284575 -0.0291627 -0.160862 0.171021 0.100181 0.144803 -0.130775 0.144658 0.217604 0.183184 0.0724929 -0.186559 0.130221 -0.110112 -0.034052 -0.209297 -0.00991707 -0.0839472 -0.116955 -0.00948219 0.0262753 0.0883498 0.106988 -0.0806311 -0.0961951 -0.0613732 0.0649068 0.198319 -0.0181362 -0.173524 0.0448095 -0.152533 -0.0312916 -0.037296 0.13225 0.181769 0.0670578 -0.0750775 0.0659797 0.260367 0.140271 0.0433508 -0.0584682 -0.00818736 -0.0169781 0.133877 -0.0249976 0.128818 0.242973 0.0161869 0.00363661 0.138618 0.192183 -0.0600959 0.0907058 -0.148384 0.0193868 0.126714 -0.096257 -0.0489912 0.103686 -0.0226556 -0.00973416 0.113775 0.14051 -0.105299 0.100975 0.0453782 0.00118724 0.258311 -0.197558 -0.126998 0.187927 -0.0463225 0.146717 -0.129229 -0.107391 -0.0301714 -0.0325654 0.176127 0.185211\".split(\" \")))\n",
    "letters.append('`')\n",
    "\n",
    "matrix = np.array(matrix, dtype=float)\n",
    "pca = PCA(n_components=target_dimension)\n",
    "new_matrix = pca.fit_transform(matrix)\n",
    "\n",
    "embedding_path = os.path.join(os.getcwd(), 'models', 'char-embeds.txt')\n",
    "with open(embedding_path, 'w') as f4:\n",
    "    for letter, vec in zip(letters, new_matrix):\n",
    "        f4.write(letter + \" \" + \" \".join(str(x) for x in vec) + \"\\n\")\n",
    "\n",
    "os.remove(base_name)"
   ]
  },
  {
   "cell_type": "code",
   "execution_count": null,
   "metadata": {},
   "outputs": [],
   "source": [
    "print(\"8-d Character Embedding saved in: {0}\".format(embedding_path))"
   ]
  }
 ],
 "metadata": {
  "kernelspec": {
   "display_name": "Python 3",
   "language": "python",
   "name": "python3"
  },
  "language_info": {
   "codemirror_mode": {
    "name": "ipython",
    "version": 3
   },
   "file_extension": ".py",
   "mimetype": "text/x-python",
   "name": "python",
   "nbconvert_exporter": "python",
   "pygments_lexer": "ipython3",
   "version": "3.6.1"
  }
 },
 "nbformat": 4,
 "nbformat_minor": 2
}
